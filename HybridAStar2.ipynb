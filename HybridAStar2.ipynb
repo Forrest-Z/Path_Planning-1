{
  "nbformat": 4,
  "nbformat_minor": 0,
  "metadata": {
    "colab": {
      "name": "TensorFlow with GPU",
      "version": "0.3.2",
      "provenance": [],
      "collapsed_sections": [],
      "include_colab_link": true
    },
    "kernelspec": {
      "display_name": "Python 2",
      "name": "python2"
    }
  },
  "cells": [
    {
      "cell_type": "markdown",
      "metadata": {
        "id": "view-in-github",
        "colab_type": "text"
      },
      "source": [
        "[View in Colaboratory](https://colab.research.google.com/github/vimalrajayyappan/Path_Planning/blob/master/HybridAStar2.ipynb)"
      ]
    },
    {
      "metadata": {
        "id": "TdwyLeweqCpO",
        "colab_type": "code",
        "colab": {}
      },
      "cell_type": "code",
      "source": [
        "import numpy as np\n",
        "import math as MT\n",
        "import matplotlib.pyplot as plt\n",
        "\n",
        "\n",
        "### STATE CLASS\n",
        "class state:\n",
        "  def __init__(self,x,y,theta,g,f,h,steer):\n",
        "    self.x=x\n",
        "    self.y=y\n",
        "    self.theta=theta\n",
        "    self.g=g\n",
        "    self.f=f\n",
        "    self.h=h\n",
        "    self.steer=steer\n",
        "\n",
        "### START NODE\n",
        "class start:\n",
        "    def __init__(self, x, y, theta):\n",
        "        self.x = x\n",
        "        self.y = y\n",
        "        self.theta = theta\n",
        "### GOAL NODE        \n",
        "class goal:\n",
        "    def __init__(self, x, y):\n",
        "        self.x = x\n",
        "        self.y = y\n",
        "        \n",
        "### LINK INDEX AND STATE        \n",
        "class link:\n",
        "    def __init__(self, inp_state, inp_index,vehicle_points_obj):\n",
        "        self.state = inp_state\n",
        "        self.index = inp_index\n",
        "        self.vehicle_points_obj=vehicle_points_obj\n",
        "        \n",
        "        \n",
        "### INPUT VEHICLE CO-ORDINATES AS NP.ARRAY([top_left,top_right,bottom_right,bottom_left])\n",
        "class vehicle_points():\n",
        "  def __init__(self,input_co_ordinates):\n",
        "    self.input_co_ordinates=input_co_ordinates\n",
        "    self.center=np.array([(input_co_ordinates[0][0]+input_co_ordinates[2][0])/2.0,(input_co_ordinates[0][1]+input_co_ordinates[2][1])/2.0])"
      ],
      "execution_count": 0,
      "outputs": []
    },
    {
      "metadata": {
        "id": "GJlao5ldrIzn",
        "colab_type": "code",
        "colab": {}
      },
      "cell_type": "code",
      "source": [
        "###CONSTANTS\n",
        "max_angle = 0.785398 #45Deg\n",
        "min_angle = -0.785398 #-45Deg\n",
        "free_space=0\n",
        "locked_space=1\n",
        "number_of_steers=3\n",
        "steer_offset=10*np.pi/180\n",
        "speed = 1\n",
        "length_of_vehicle = 1\n",
        "\n",
        "### GRID MAKING \n",
        "grid_x_m = 40\n",
        "grid_y_m = 40\n",
        "\n",
        "### FOR CELL DIVISION\n",
        "coll_cell_side = 1.0\n",
        "grid_on_x = np.int( np.ceil(grid_x_m/coll_cell_side) )\n",
        "grid_on_y = np.int( np.ceil(grid_y_m/coll_cell_side) )\n",
        "\n",
        "### FIT ZEROS\n",
        "grid = np.zeros((grid_on_x,grid_on_y-1),np.int)"
      ],
      "execution_count": 0,
      "outputs": []
    },
    {
      "metadata": {
        "id": "zLI7kvSbrZIE",
        "colab_type": "code",
        "colab": {}
      },
      "cell_type": "code",
      "source": [
        "\n",
        "### AUGMENT DELTA +/- GIVEN OFFSET\n",
        "def delta_augmentation(delta, numbers, offset):\n",
        "    delta_list = []\n",
        "    delta_list.append(delta)\n",
        "    delta_calc_add=delta_calc_sub = delta\n",
        "    for i in range(0 ,numbers):\n",
        "        delta_calc_add += offset\n",
        "        delta_calc_sub -= offset\n",
        "        if delta_calc_add < max_angle:\n",
        "            delta_list.append(delta_calc_add)\n",
        "        if delta_calc_sub > min_angle:\n",
        "            delta_list.append(delta_calc_sub)\n",
        "    return delta_list\n",
        "\n",
        "### TRANSFORM VEHICLE CO-ORDINATES \n",
        "def transform_vehicle_co_ordinates(vehicle_point_object,next_state,angle_of_rotation):\n",
        "    displaced_matrix = np.array([next_state[0]-vehicle_point_object.center[0],next_state[1]-vehicle_point_object.center[1]])\n",
        "    transformed_matrix=np.add(vehicle_point_object.input_co_ordinates,displaced_matrix)\n",
        "    return rotate_vehicle_co_ordinates(vehicle_points(transformed_matrix),angle_of_rotation)\n",
        "  \n",
        "### ROTATE VEHICLE CO-ORDINATES     \n",
        "def rotate_vehicle_co_ordinates(vehicle_point_object,angle_of_rotation):\n",
        "    rotation_matrix = np.array([[np.cos(angle_of_rotation), np.sin(angle_of_rotation)], \n",
        "                                [-np.sin(angle_of_rotation), np.cos(angle_of_rotation)]])\n",
        "    return np.add(vehicle_point_object.center,np.matmul(np.subtract(vehicle_point_object.input_co_ordinates,vehicle_point_object.center), rotation_matrix))\n",
        "\n",
        "def euclidean_distance(start_point,end_point):\n",
        "  return np.sqrt((end_point[0]-start_point[0])**2 +(end_point[1]-start_point[1])**2)\n",
        "\n",
        "def normalize_theta(theta):\n",
        "  if(theta<0):\n",
        "    theta+=(2*np.pi)\n",
        "  elif(theta>2*np.pi):\n",
        "    theta%=(2*np.pi)\n",
        "  return theta\n",
        "\n",
        "def new_state_transition(present_state,speed,delta,dt,goal):\n",
        "  omega = speed/length_of_vehicle * np.tan(delta)\n",
        "  dX    = speed * np.cos(present_state.theta) * dt\n",
        "  dY    = speed * np.sin(present_state.theta) * dt\n",
        "  nextX = present_state.x + dX\n",
        "  nextY = present_state.y + dY\n",
        "  nextTheta = normalize_theta(present_state.theta+(omega*dt))\n",
        "  nextG = 0#present_state.g + np.sqrt(dX*dX + dY*dY)\n",
        "  nextH =  euclidean_distance([nextX,nextY],[goal.x,goal.y]) #+present_state.h \n",
        "  nextF = nextG+nextH\n",
        "  nextSteer = delta  #######################\n",
        "  nextState = state(nextX,nextY,nextTheta,nextG,nextF,nextH,nextSteer)\n",
        "  return nextState\n",
        "  \n",
        "  \n",
        "def is_within_grid(x,y):\n",
        "  return (x>0 and x<grid_x_m and y>0 and y<grid_y_m)\n",
        "\n",
        "def is_closed(x,y):\n",
        "  return grid[x][y]!=free_space\n",
        "\n",
        "def theta_to_stack_number(theta):\n",
        "  new = (theta+2*np.pi)%(2*np.pi)\n",
        "  stack_number = round(new*90/2*np.pi)%90\n",
        "  return int(stack_number)\n",
        "\n",
        "def idx(value):\n",
        "  return int(MT.floor(value))\n",
        "\n",
        "def is_vehicle_in_safe_position(vehicle_points):\n",
        "  for point in vehicle_points.input_co_ordinates:\n",
        "    if(is_within_grid( idx(point[0]),idx(point[1])) and  \n",
        "       (not is_closed(idx(point[0]),idx(point[1])))):\n",
        "      continue\n",
        "    else:\n",
        "      return False\n",
        "  return True\n",
        "\n",
        "def is_goal_reached(start,goal):\n",
        "  result=False\n",
        "  if(idx(start[0])==idx(goal[0]) and idx(start[1])==idx(goal[1])):\n",
        "    result=True\n",
        "  \n",
        "  return result \n",
        "  "
      ],
      "execution_count": 0,
      "outputs": []
    },
    {
      "metadata": {
        "id": "SK_rr3DKrjGS",
        "colab_type": "code",
        "colab": {}
      },
      "cell_type": "code",
      "source": [
        "#trace_link = link(path_state, -1 )\n",
        "#trace_list.append(trace_link)\n",
        "\n",
        "###$\n",
        "path_x = []\n",
        "path_y = []\n",
        "path_h = []\n",
        "path_x.append( current_state.x )\n",
        "path_y.append( current_state.y )\n",
        "NUM_THETA_CELLS = 90\n",
        "closed = np.array([[[free_space for x in range(grid_on_x)] for y in range(grid_on_y)] for cell in range(NUM_THETA_CELLS)])"
      ],
      "execution_count": 0,
      "outputs": []
    },
    {
      "metadata": {
        "id": "zfHjB5Rpucfz",
        "colab_type": "code",
        "colab": {}
      },
      "cell_type": "code",
      "source": [
        ""
      ],
      "execution_count": 0,
      "outputs": []
    },
    {
      "metadata": {
        "id": "KiPXRhOXrnrh",
        "colab_type": "code",
        "colab": {}
      },
      "cell_type": "code",
      "source": [
        "def hybrid_A_star_search(current_state,goal,vehicle_pt_obj,number_of_steers=7,steer_offset=5*np.pi/180):\n",
        "  open_list = []\n",
        "  NUM_THETA_CELLS = 90\n",
        "  path_link = link( current_state, 0, vehicle_pt_obj )\n",
        "  open_list.append( path_link )\n",
        "  stack_num = theta_to_stack_number(current_state.theta)\n",
        "  closed[stack_num][idx(current_state.x)][idx(current_state.y)] = locked_space\n",
        "  goal_reached = False\n",
        "  speed = 2\n",
        "  dt = 2\n",
        "  \n",
        "  while len(open_list)>0 and (not goal_reached):\n",
        "    open_list.sort(key=lambda state_srt : float(state_srt.state.f))\n",
        "    #l=[]\n",
        "    #for i in open_list:\n",
        "      #l.append(i.state.f)\n",
        "    #print(l)\n",
        "    path_link = open_list.pop(0)\n",
        "    path_state = path_link.state\n",
        "    path_index = path_link.index\n",
        "    vehicle_pt_obj=path_link.vehicle_points_obj\n",
        "    \n",
        "    if(is_goal_reached([path_state.x,path_state.y],[goal.x,goal.y])):\n",
        "      goal_reached=True\n",
        "      print(\"goal_reached\")\n",
        "      return\n",
        "    \n",
        "    delta_angles = delta_augmentation( delta=path_state.steer, numbers=number_of_steers,offset=steer_offset)\n",
        "    \n",
        "    for angle in delta_angles:\n",
        "      new_state = new_state_transition( path_state, speed, angle, dt, goal )\n",
        "      stack_num = theta_to_stack_number(new_state.theta)\n",
        "      if( is_within_grid( idx( new_state.x ),idx( new_state.y )) \n",
        "         and ( not is_closed( idx(new_state.x ),idx( new_state.y )))\n",
        "         and closed[stack_num][idx( new_state.x )][idx( new_state.y )] != locked_space):\n",
        "        \n",
        "        new_vehicle_pt_obj=vehicle_points(transform_vehicle_co_ordinates(vehicle_pt_obj, [new_state.x,new_state.y],new_state.theta ))\n",
        "        ####################### iterating through every points?\n",
        "        if(is_vehicle_in_safe_position(new_vehicle_pt_obj)):\n",
        "          ####################### use of index in link?\n",
        "          new_link=link(new_state,path_index+1,new_vehicle_pt_obj)\n",
        "          open_list.append(new_link)\n",
        "          #closed[stack_num][idx( new_state.x )][idx( new_state.y )]=locked_space\n",
        "          #############WHY plots use rectangles\n",
        "          plt.plot([path_state.x,new_state.x],[path_state.y,new_state.y])\n",
        "          plt.draw()\n",
        "          #plt.plot(xL,yL)\n",
        "          #print('stack_num: ',stack_num,'angle',angle*180/np.pi, 'frst_state: ',[path_state.x,path_state.y],'next_state: ',[new_state.x,new_state.y])\n",
        "        closed[stack_num][idx( new_state.x )][idx( new_state.y )]=locked_space\n"
      ],
      "execution_count": 0,
      "outputs": []
    },
    {
      "metadata": {
        "id": "Z83M6pSrtaw6",
        "colab_type": "code",
        "colab": {}
      },
      "cell_type": "code",
      "source": [
        "grid[20][0]=1\n",
        "grid[20][1]=1\n",
        "grid[17][9]=1\n",
        "grid[17][10]=1\n"
      ],
      "execution_count": 0,
      "outputs": []
    },
    {
      "metadata": {
        "id": "wKF2B09ArpqA",
        "colab_type": "code",
        "colab": {}
      },
      "cell_type": "code",
      "source": [
        "plt.axis([0,100,0,100])\n",
        "if __name__== \"__main__\":\n",
        "  vehicle_pt_obj = vehicle_points(np.array([[1.5,1.5],[1.5,4.5],[4.5,4.5],[4.5,1.5],[1.5,2.5],[1.5,3.5],\n",
        "                           [2.5,1.5],[2.5,2.5],[2.5,3.5],[2.5,4.5],[3.5,1.5],[3.5,2.5],\n",
        "                           [3.5,3.5],[3.5,4.5],[4.5,2.5],[4.5,3.5]]))\n",
        "  current_state = state(vehicle_pt_obj.center[0], vehicle_pt_obj.center[1], 0.0, 0.0, 0.0, 0.0, 0.0)\n",
        "  goal_node = goal( 25,25 )\n",
        "  hybrid_A_star_search(current_state,goal_node,vehicle_pt_obj, 7, 0.0872665 )\n",
        "  "
      ],
      "execution_count": 0,
      "outputs": []
    },
    {
      "metadata": {
        "id": "Zkc3-gPdrDmw",
        "colab_type": "code",
        "colab": {}
      },
      "cell_type": "code",
      "source": [
        ""
      ],
      "execution_count": 0,
      "outputs": []
    }
  ]
}